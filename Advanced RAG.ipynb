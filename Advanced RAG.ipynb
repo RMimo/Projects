{
 "cells": [
  {
   "cell_type": "markdown",
   "metadata": {},
   "source": [
    "# Advanced RAG"
   ]
  },
  {
   "cell_type": "markdown",
   "metadata": {},
   "source": [
    "## Naive Retrieval-Augmented Generation (RAG) Overview\n",
    "\n",
    "Naive RAG involves three primary phases:\n",
    "\n",
    "1. **Indexing**: \n",
    "   - Prepares the document collection for retrieval by cleaning and extracting relevant information from each document. This phase involves parsind and preprocessing documents, chunking the parsed documents, using an embedding model to generate vectors out of the chunks, and storing them into a vector database.\n",
    "   \n",
    "2. **Retrieval**: \n",
    "   - Converts the user query into a vector representation using the embedding model.\n",
    "   - Compares the vectorized query with the vectors stored in the vector database to retrieve the most relevant chunks. \n",
    "\n",
    "3. **Generation**: \n",
    "   - Augments the user query with the retrieved chunks into a single prompt.\n",
    "   - Generates an answer to the user query using a language model based on this combined information."
   ]
  },
  {
   "cell_type": "markdown",
   "metadata": {},
   "source": [
    "## Naive RAG Pitfalls\n",
    "\n",
    "Naive RAG presents two main types of challenges:\n",
    "1. **Retrieval challenges**: selection of irrelevant chunks to query, missing crucial information.\n",
    "2. **Generation challenges**: the LLM struggles with hallucination and presents issues with relevance in its output.\n",
    "\n",
    "These challenges occur mainly due to:\n",
    "\n",
    "1. **Limited contextual understanding**:\n",
    "   - Because naive RAG focus on **keyword matching** or basic semantic search, it retrieves irrelevant or partially relevant documents to the query. For example, a query like \"*...the impact of climate change on polar bears*\" would retrieve documents related with *climate change* and *polars bears* but not documents that talk about both *climate change* and *polars bears*.\n",
    "\n",
    "2. **Inconsistent Relevance and Quality of Retrieved Documents**  \n",
    "   - Naive RAG may struggle with effective document ranking, which can result in irrelevant or low-quality inputs being fed into the model.\n",
    "\n",
    "3. **Poor Integration Between Retrieval and Generation**  \n",
    "   - In Naive RAG, the retriever and generator operate independently, often leading to a lack of coordination between retrieval results and generation context.\n",
    "\n",
    "4. **Inefficient Handling of Large-Scale Data**  \n",
    "   - Standard retrieval methods can be inefficient at scale, making it challenging for Naive RAG to manage large datasets. This can cause delays in finding relevant documents or result in critical information being missed due to ineffective indexing.\n",
    "\n",
    "5. **Lack of Robustness and Adaptability**  \n",
    "   - Naive RAG lacks mechanisms to handle ambiguous or complex queries effectively. When queries contain multiple or nuanced questions, Naive RAG struggles to adapt, often failing to provide comprehensive answers due to its limited flexibility."
   ]
  },
  {
   "cell_type": "markdown",
   "metadata": {},
   "source": [
    "## Advanced RAG Techniques\n",
    "Advanced RAG techniques introduces improvement to overcome the limitations of Naive RAG, focusing on enhancing the retrieval quality.\n",
    "\n",
    "1. Pre-retrieval\n",
    "    - It improves the indexing structure and user's query, by organizing the indexes better and adding extra information. \n",
    "\n",
    "2. Pos-retrieval\n",
    "    - We combine the data obtained during the pre-retrieval phase with the original query. This could involve re-raking to highlight the most important content. \n",
    "\n",
    "### Query Expansion\n",
    "Query expansion is a technique used in information retrieval and search engines to improve search results by enhancing a user's original query with additional, related terms or phrases. The goal is to address issues such as ambiguous or overly broad queries and to increase the likelihood that relevant documents will be retrieved. This process can help users find information they need more effectively, especially if they may not be familiar with the best search terms to use.\n",
    "\n",
    "Query expansion can help reduce the number of irrelevant search results and help users with more specific searches. This is particularly helpful in cases where users enter very short or ambiguous queries, as it helps the system better understand their intent. However, adding too many terms or the wrong terms can dilute the query, introducing irrelevant results.\n",
    "\n",
    "There are several methods of query expansion:\n",
    "1. Phrase Expansion: Instead of just adding single words, phrases related to the query are also added to make the search results more precise. For example, a query for \"heart attack\" might expand to include \"myocardial infarction.\"\n",
    "2. Contextual or Conceptual Expansion: This approach uses a knowledge base or thesaurus (like WordNet or domain-specific ontologies) to include related terms based on the meaning or context of the original query. For example, searching for \"virus\" might include terms like \"infection\" or \"disease\" if the system recognizes a medical context.\n",
    "3. Synonym Expansion: Adding synonyms of terms in the original query. For instance, if someone searches for \"car,\" the search system might also consider \"automobile\" or \"vehicle.\"\n"
   ]
  }
 ],
 "metadata": {
  "language_info": {
   "name": "python"
  }
 },
 "nbformat": 4,
 "nbformat_minor": 2
}
